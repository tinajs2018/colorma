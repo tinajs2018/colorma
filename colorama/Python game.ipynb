{
 "cells": [
  {
   "cell_type": "code",
   "execution_count": null,
   "metadata": {},
   "outputs": [
    {
     "name": "stdout",
     "output_type": "stream",
     "text": [
      "What is the cleaset animal  \n",
      "What is the most dangorous city in the world  windhork\n",
      "That is the correct\n",
      "wrong answer you can try againwij\n",
      "What looks tiny but affect the mostdff\n"
     ]
    }
   ],
   "source": [
    "def check_guess(guess,answer):\n",
    "    global score\n",
    "    still_guess=True\n",
    "    attemp=0\n",
    "    while  still_guess and attemp <3:\n",
    "         if guess.lower()==answer.lower():\n",
    "                print('That is the correct')\n",
    "                score=score +1\n",
    "                still_guess =False\n",
    "    else:\n",
    "        \n",
    "        if attemp<3 :\n",
    "            guess=input('wrong answer you can try again')\n",
    "        attemp= attemp+ 1\n",
    "    if  attemp==3:\n",
    "        print('The correct answer is '  +answer)\n",
    "score=0\n",
    "print( 'What is the cleaset animal  ')\n",
    "guess1=input('What is the most dangorous city in the world  ')\n",
    "check_guess(guess1, 'windhork')\n",
    "guess2=input('What looks tiny but affect the most')\n",
    "check_guess(guess2,'string')\n",
    "print('Your score is ' + str(score))"
   ]
  },
  {
   "cell_type": "code",
   "execution_count": 2,
   "metadata": {},
   "outputs": [
    {
     "name": "stdout",
     "output_type": "stream",
     "text": [
      "hello  kelly\n",
      "hello  maggi\n",
      "hello  boniface\n"
     ]
    }
   ],
   "source": [
    "#Passing a list as an argument\n",
    "def great(names):\n",
    "    for name in names:\n",
    "        msg='hello  '+ name\n",
    "        print(msg)\n",
    "username=['kelly','maggi','boniface']\n",
    "great(username)"
   ]
  },
  {
   "cell_type": "code",
   "execution_count": null,
   "metadata": {},
   "outputs": [],
   "source": []
  },
  {
   "cell_type": "code",
   "execution_count": null,
   "metadata": {},
   "outputs": [],
   "source": []
  }
 ],
 "metadata": {
  "kernelspec": {
   "display_name": "Python 3",
   "language": "python",
   "name": "python3"
  },
  "language_info": {
   "codemirror_mode": {
    "name": "ipython",
    "version": 3
   },
   "file_extension": ".py",
   "mimetype": "text/x-python",
   "name": "python",
   "nbconvert_exporter": "python",
   "pygments_lexer": "ipython3",
   "version": "3.7.4"
  }
 },
 "nbformat": 4,
 "nbformat_minor": 2
}
