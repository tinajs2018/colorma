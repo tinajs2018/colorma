{
 "cells": [
  {
   "cell_type": "code",
   "execution_count": 17,
   "metadata": {},
   "outputs": [],
   "source": [
    "import colorama\n",
    "from colorama import Fore,Back,Style"
   ]
  },
  {
   "cell_type": "code",
   "execution_count": 19,
   "metadata": {},
   "outputs": [
    {
     "name": "stdout",
     "output_type": "stream",
     "text": [
      " will make sure  tommorow is better  for mankind\n",
      "I owe that to universal\n",
      " for the first time i understands the codes\n"
     ]
    }
   ],
   "source": [
    "#intiation\n",
    "colorama.init(autoreset=True)\n",
    "print(Fore.BLUE +Back.RED + \" will make sure  tommorow is better  for mankind\")\n",
    "print(Back.CYAN+ 'I owe that to universal')\n",
    "print(Fore.RED + Back.BLUE  +\" for the first time i understands the codes\")"
   ]
  },
  {
   "cell_type": "code",
   "execution_count": null,
   "metadata": {},
   "outputs": [],
   "source": []
  }
 ],
 "metadata": {
  "kernelspec": {
   "display_name": "Python 3",
   "language": "python",
   "name": "python3"
  },
  "language_info": {
   "codemirror_mode": {
    "name": "ipython",
    "version": 3
   },
   "file_extension": ".py",
   "mimetype": "text/x-python",
   "name": "python",
   "nbconvert_exporter": "python",
   "pygments_lexer": "ipython3",
   "version": "3.7.4"
  }
 },
 "nbformat": 4,
 "nbformat_minor": 2
}
